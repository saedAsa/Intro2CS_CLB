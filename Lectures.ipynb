{
 "cells": [
  {
   "cell_type": "markdown",
   "metadata": {},
   "source": [
    "### Loops"
   ]
  },
  {
   "cell_type": "markdown",
   "metadata": {},
   "source": [
    "###### While loop"
   ]
  },
  {
   "cell_type": "code",
   "execution_count": 33,
   "metadata": {},
   "outputs": [
    {
     "name": "stdout",
     "output_type": "stream",
     "text": [
      "1  ,2  ,3  ,4  ,5  ,6  ,7  ,8  ,9  ,10  ,"
     ]
    }
   ],
   "source": [
    "# print all numbers from 1 up to n\n",
    "n = int(input('Enter n: '))\n",
    "curr = 1\n",
    "while curr<=n:\n",
    "    print(curr,\" ,\", end=\"\")\n",
    "    curr=curr+1\n"
   ]
  },
  {
   "cell_type": "code",
   "execution_count": 3,
   "metadata": {},
   "outputs": [
    {
     "name": "stdout",
     "output_type": "stream",
     "text": [
      "55.0\n"
     ]
    }
   ],
   "source": [
    "# 1 2 3 .... n, -> 1 + 2 + 3 + .. + n\n",
    "n = int(input('Enter n: '))\n",
    "sum = ((n+1)*n)/2\n",
    "print(sum)\n"
   ]
  },
  {
   "cell_type": "code",
   "execution_count": 10,
   "metadata": {},
   "outputs": [
    {
     "name": "stdout",
     "output_type": "stream",
     "text": [
      "Sum 1 + ....+ 10 = 55\n"
     ]
    }
   ],
   "source": [
    "# 1+2+..+n\n",
    "n = int(input('Enter n: '))# if we put n = 10\n",
    "sum = 0\n",
    "current_number = 1\n",
    "while current_number <= n:\n",
    "    sum = sum + current_number\n",
    "    current_number = current_number + 1\n",
    "print('Sum 1 + ....'+'+',n,'=',sum) # sum will be 55"
   ]
  },
  {
   "cell_type": "code",
   "execution_count": 9,
   "metadata": {},
   "outputs": [
    {
     "name": "stdout",
     "output_type": "stream",
     "text": [
      "5 != 120\n"
     ]
    }
   ],
   "source": [
    "# n! = 1*2*3*4*....*n (factorial), 0! = 1, 1! = 1\n",
    "\n",
    "n = int(input('Enter n: '))# 3\n",
    "ans = 1\n",
    "current_number = 1\n",
    "while current_number <= n:\n",
    "    ans = ans * current_number\n",
    "    current_number = current_number + 1\n",
    "print(n,'!=',ans) "
   ]
  },
  {
   "cell_type": "code",
   "execution_count": 16,
   "metadata": {},
   "outputs": [
    {
     "name": "stdout",
     "output_type": "stream",
     "text": [
      "2 ^ 1 = 2\n",
      "2 ^ 2 = 4\n",
      "2 ^ 3 = 8\n",
      "2 ^ 4 = 16\n",
      "2 ^ 5 = 32\n"
     ]
    }
   ],
   "source": [
    "# 2^n = 2*2*2*2*...*2\n",
    "# 2**n X\n",
    "n = int(input('Enter n: '))# 3\n",
    "ans = 2\n",
    "current_number = 1\n",
    "\n",
    "while current_number <= n:\n",
    "    print(2,'^',current_number,'=',ans)\n",
    "    ans = ans * 2\n",
    "    current_number = current_number + 1\n",
    "\n",
    " "
   ]
  },
  {
   "cell_type": "markdown",
   "metadata": {},
   "source": [
    "###### GCD\n",
    "###### GCD(48, 18) = 6"
   ]
  },
  {
   "cell_type": "code",
   "execution_count": 18,
   "metadata": {},
   "outputs": [
    {
     "name": "stdout",
     "output_type": "stream",
     "text": [
      "GCD( 48 , 18 ) = 6\n"
     ]
    }
   ],
   "source": [
    "x = int(input('Enter x: '))\n",
    "y = int(input('Enter y: '))\n",
    "##Assume that x > y\n",
    "curr = 1 # current number (the counter)\n",
    "gcd = 1 # (the answer)\n",
    "# 1 ... y\n",
    "while curr <= y:\n",
    "    if (x%curr == 0) and (y%curr == 0) :\n",
    "        gcd = curr\n",
    "    curr = curr + 1\n",
    "print('GCD(',x,',',y,') =',gcd)"
   ]
  },
  {
   "cell_type": "code",
   "execution_count": 4,
   "metadata": {},
   "outputs": [
    {
     "name": "stdout",
     "output_type": "stream",
     "text": [
      "GCD( 48 , 18 ) = 6\n"
     ]
    }
   ],
   "source": [
    "# 1,2,3,..., y \n",
    "# y, y-1, y-2 ,..., 1\n",
    "# break => stop the loop!\n",
    "x = int(input('Enter x: '))\n",
    "y = int(input('Enter y: '))\n",
    "x = 48\n",
    "y = 18\n",
    "##Assume that x > y\n",
    "curr = y # current number (the counter)\n",
    "gcd = 1 # (the answer)\n",
    "while(curr >= 1):\n",
    "    if((x%curr==0) and (y%curr==0)):\n",
    "        gcd = curr\n",
    "        break\n",
    "    curr = curr - 1\n",
    "print('GCD(',x,',',y,') =',gcd)\n"
   ]
  },
  {
   "cell_type": "code",
   "execution_count": 25,
   "metadata": {},
   "outputs": [
    {
     "name": "stdout",
     "output_type": "stream",
     "text": [
      "GCD( 48 , 18 ) = 6\n"
     ]
    }
   ],
   "source": [
    "# 1,2,3,..., y \n",
    "# y, y-1, y-2 ,..., 1\n",
    "# break => stop the loop!\n",
    "### The same as above, without using break statement\n",
    "x = int(input('Enter x: '))\n",
    "y = int(input('Enter y: '))\n",
    "\n",
    "if y>x:\n",
    "    # t = x\n",
    "    # x = y\n",
    "    # y = t\n",
    "    x,y = y,x\n",
    "    \n",
    "\n",
    "\n",
    "##Assume that x > y\n",
    "curr = y # current number (the counter)\n",
    "gcd = 1 # (the answer)\n",
    "while(curr >= 1 and gcd == 1):\n",
    "    if((x%curr==0) and (y%curr==0)):\n",
    "        gcd = curr\n",
    "    curr = curr - 1\n",
    "print('GCD(',x,',',y,') =',gcd)"
   ]
  },
  {
   "cell_type": "code",
   "execution_count": 22,
   "metadata": {},
   "outputs": [
    {
     "name": "stdout",
     "output_type": "stream",
     "text": [
      "9\n",
      "4\n"
     ]
    }
   ],
   "source": [
    "### variables names:\n",
    "# 3x = 9 Error!!\n",
    "x3 = 9\n",
    "x_3 = 10\n",
    "print(x3) \n",
    "print(4)\n",
    "# int\n",
    "# print\n",
    "# while\n",
    "# for\n",
    "# float\n",
    "# str "
   ]
  },
  {
   "cell_type": "markdown",
   "metadata": {},
   "source": [
    "Example  \n",
    "Let's say you want to find the GCD of 48 and 18:  \n",
    "1. 48 mod  18 = 12. Now, work with 18 and 12.\n",
    "2.\t18 mod 12 = 6. Now, work with 12 and 6.\n",
    "3.\t12 mod 6 = 0. The remainder is 0, so 6 is the GCD.\n",
    "4. 6 mod 0"
   ]
  },
  {
   "cell_type": "code",
   "execution_count": 26,
   "metadata": {},
   "outputs": [
    {
     "name": "stdout",
     "output_type": "stream",
     "text": [
      "GCD( 48 , 18 ) = 6\n"
     ]
    }
   ],
   "source": [
    "## The Euclidean Algorithm\n",
    "# GCD(a,b) = GC(a%b,b)\n",
    "\n",
    "x = int(input('Enter x: '))\n",
    "y = int(input('Enter y: '))\n",
    "original_x = x\n",
    "original_y = y\n",
    "if(y>x):\n",
    "    x,y=y,x\n",
    "\n",
    "while y != 0:\n",
    "    temp = x%y\n",
    "    x = y\n",
    "    y = temp\n",
    "\n",
    "print('GCD(',original_x,',',original_y,') =',x)"
   ]
  },
  {
   "cell_type": "code",
   "execution_count": 29,
   "metadata": {},
   "outputs": [],
   "source": [
    "# d a, b, a>b => a = k * d, b = l * d => a-b = k*d - l*d = d(k-l)"
   ]
  },
  {
   "cell_type": "code",
   "execution_count": 30,
   "metadata": {},
   "outputs": [
    {
     "name": "stdout",
     "output_type": "stream",
     "text": [
      "31\n"
     ]
    }
   ],
   "source": [
    "## Sum digits of a positive integer\n",
    "n = int(input('Enter a number to sum its digits: '))\n",
    "sum = 0\n",
    "while n != 0:\n",
    "    sum += n%10\n",
    "    n = n//10\n",
    "print(sum)"
   ]
  },
  {
   "cell_type": "code",
   "execution_count": 5,
   "metadata": {},
   "outputs": [],
   "source": [
    "## an exapmle of a loop that does not execute\n",
    "i = 10\n",
    "while i<5:\n",
    "    print('less than 5')\n",
    "    i=i+1"
   ]
  },
  {
   "cell_type": "code",
   "execution_count": 37,
   "metadata": {},
   "outputs": [
    {
     "name": "stdout",
     "output_type": "stream",
     "text": [
      "7\n",
      "invalid input! please enter a number\n",
      "invalid input! please enter a number\n",
      "91\n",
      "11\n",
      "End\n"
     ]
    }
   ],
   "source": [
    "# an example of an infinite loop\n",
    "while True:\n",
    "    x = input('Enter a choice (exit or a number): ')\n",
    "    if(x == 'exit'):\n",
    "        break\n",
    "    else:\n",
    "        try:\n",
    "            print((int(x)+1))\n",
    "        except:\n",
    "            print('invalid input! please enter a number')\n",
    "print('End')\n"
   ]
  },
  {
   "cell_type": "code",
   "execution_count": 7,
   "metadata": {},
   "outputs": [
    {
     "name": "stdout",
     "output_type": "stream",
     "text": [
      "*\n",
      "**\n",
      "***\n",
      "****\n",
      "*****\n",
      "******\n",
      "*******\n",
      "********\n",
      "*********\n",
      "**********\n"
     ]
    }
   ],
   "source": [
    "## Print a n side length right triangle\n",
    "n = int(input('Enter side length: '))\n",
    "row = 1\n",
    "while (row<=n):\n",
    "    column = 1\n",
    "    while(column <= row):\n",
    "        print('*', end=\"\") # , end=\"\" ---> in order to stay in the same line\n",
    "        column += 1 ## column = column + 1\n",
    "    print()\n",
    "    row+=1\n",
    "    "
   ]
  },
  {
   "cell_type": "code",
   "execution_count": 4,
   "metadata": {},
   "outputs": [
    {
     "name": "stdout",
     "output_type": "stream",
     "text": [
      "*********\n",
      "********\n",
      "*******\n",
      "******\n",
      "*****\n",
      "****\n",
      "***\n",
      "**\n",
      "*\n"
     ]
    }
   ],
   "source": [
    "## Print a n side length flipped right triangle\n",
    "n = int(input('Enter side length: '))\n",
    "row = 1\n",
    "while (row<=n):\n",
    "    print('*'*row)\n",
    "    row+=1\n",
    "    "
   ]
  },
  {
   "cell_type": "code",
   "execution_count": 12,
   "metadata": {},
   "outputs": [
    {
     "name": "stdout",
     "output_type": "stream",
     "text": [
      "1\t2\t3\t4\t5\t6\t7\t8\t9\t10\t\n",
      "\n",
      "2\t4\t6\t8\t10\t12\t14\t16\t18\t20\t\n",
      "\n",
      "3\t6\t9\t12\t15\t18\t21\t24\t27\t30\t\n",
      "\n",
      "4\t8\t12\t16\t20\t24\t28\t32\t36\t40\t\n",
      "\n",
      "5\t10\t15\t20\t25\t30\t35\t40\t45\t50\t\n",
      "\n",
      "6\t12\t18\t24\t30\t36\t42\t48\t54\t60\t\n",
      "\n",
      "7\t14\t21\t28\t35\t42\t49\t56\t63\t70\t\n",
      "\n",
      "8\t16\t24\t32\t40\t48\t56\t64\t72\t80\t\n",
      "\n",
      "9\t18\t27\t36\t45\t54\t63\t72\t81\t90\t\n",
      "\n",
      "10\t20\t30\t40\t50\t60\t70\t80\t90\t100\t\n",
      "\n"
     ]
    }
   ],
   "source": [
    "## Multiplication Table\n",
    "size = int(input('Enter size of the table: '))\n",
    "row = 1\n",
    "while (row <= size):\n",
    "    col = 1\n",
    "    while(col <= size):\n",
    "        print(f\"{row*col}\\t\", end='')\n",
    "        col+=1\n",
    "    print(\"\\n\")\n",
    "    row+=1"
   ]
  },
  {
   "cell_type": "code",
   "execution_count": 11,
   "metadata": {},
   "outputs": [
    {
     "name": "stdout",
     "output_type": "stream",
     "text": [
      "My name is Saed, I am 33 years old, I am 175 cm\n"
     ]
    }
   ],
   "source": [
    "age = 32+1\n",
    "height = 175\n",
    "st1 = f'My name is Saed, I am {age} years old, I am {height} cm'\n",
    "print(st1)"
   ]
  },
  {
   "cell_type": "code",
   "execution_count": 17,
   "metadata": {},
   "outputs": [
    {
     "name": "stdout",
     "output_type": "stream",
     "text": [
      "0, 1, 1, 2, 3, 5, 8, 13, 21, 34, "
     ]
    }
   ],
   "source": [
    "## print the first n Fibonacci Series elements\n",
    "a, b = 0, 1\n",
    "n = int(input('Enter n: '))\n",
    "counter = 1\n",
    "while(counter<=n):\n",
    "    print(f'{a}, ', end='')\n",
    "    c = a\n",
    "    a = b\n",
    "    b = c + b\n",
    "    # a, b = b, a+b\n",
    "    counter+=1"
   ]
  },
  {
   "cell_type": "code",
   "execution_count": 23,
   "metadata": {},
   "outputs": [
    {
     "name": "stdout",
     "output_type": "stream",
     "text": [
      "Decimal 5 is Binary 1010\n"
     ]
    }
   ],
   "source": [
    "## Convert decimal to binary\n",
    "result  = ''\n",
    "n = int(input('Enter n (decimal): '))\n",
    "temp = n\n",
    "while temp != 0:\n",
    "    modolu = temp%2\n",
    "    result = f'{modolu}{result}' #str(modolu)+result\n",
    "    temp//=2\n",
    "if n == 0:\n",
    "    result = '0'\n",
    "print(f'Decimal {n} is Binary {result}')"
   ]
  },
  {
   "cell_type": "code",
   "execution_count": 25,
   "metadata": {},
   "outputs": [],
   "source": [
    "# ## a program that accepts n grades, and calculates the average of the grades\n",
    "# n -> מספר הציונים\n",
    "# counter -> סופר - שירוץ עד מספר הסטודנטים\n",
    "# grade -> ציון\n",
    "# sum -> סכום הציונים\n",
    "# average -> ממוצע הציונים"
   ]
  },
  {
   "cell_type": "code",
   "execution_count": 5,
   "metadata": {},
   "outputs": [
    {
     "name": "stdout",
     "output_type": "stream",
     "text": [
      "100\n",
      "The averge is: 100.0\n"
     ]
    }
   ],
   "source": [
    "n = int(input('Enter Number of students: '))\n",
    "counter = 1\n",
    "sum = 0\n",
    "while counter <= n:\n",
    "    grade = int(input(f'Enter grade for student {counter}: '))\n",
    "    print(grade)\n",
    "    sum+=grade\n",
    "    counter+=1\n",
    "average = sum/n\n",
    "print(f'The averge is: {average}')\n",
    "\n",
    "\n"
   ]
  },
  {
   "cell_type": "code",
   "execution_count": 30,
   "metadata": {},
   "outputs": [
    {
     "name": "stdout",
     "output_type": "stream",
     "text": [
      "13\n"
     ]
    }
   ],
   "source": [
    "## Input Filtering\n",
    "while True:\n",
    "    try:\n",
    "        y = int(input('Enter a positive integer number: '))\n",
    "        if y<=0:\n",
    "            print('Please enter a positive integer!')\n",
    "            continue #skip to the next iteration\n",
    "        break\n",
    "    except:\n",
    "        print('Wrong input!')\n",
    "\n",
    "print(y+8)"
   ]
  },
  {
   "cell_type": "code",
   "execution_count": 39,
   "metadata": {},
   "outputs": [
    {
     "data": {
      "text/plain": [
       "0"
      ]
     },
     "execution_count": 39,
     "metadata": {},
     "output_type": "execute_result"
    }
   ],
   "source": [
    "# ord('9') - ord('0')"
   ]
  },
  {
   "cell_type": "code",
   "execution_count": 40,
   "metadata": {},
   "outputs": [],
   "source": [
    "st1 = 'hello world!'"
   ]
  },
  {
   "cell_type": "code",
   "execution_count": 41,
   "metadata": {},
   "outputs": [
    {
     "name": "stdout",
     "output_type": "stream",
     "text": [
      "hello world!\n"
     ]
    }
   ],
   "source": [
    "print(st1)"
   ]
  },
  {
   "cell_type": "code",
   "execution_count": 49,
   "metadata": {},
   "outputs": [],
   "source": [
    "# st1[0] ... st1[11] (st1[0] ... st1[n-1], when n is the length of the string)"
   ]
  },
  {
   "cell_type": "code",
   "execution_count": 59,
   "metadata": {},
   "outputs": [
    {
     "name": "stdout",
     "output_type": "stream",
     "text": [
      "o\n",
      "o\n",
      "108\n"
     ]
    }
   ],
   "source": [
    "st2 = 'hello'\n",
    "print(st2[4])\n",
    "print(st2[-1])\n",
    "# st2[-6] or st2[5] => error!\n",
    "print(ord(st2[3]))"
   ]
  },
  {
   "cell_type": "code",
   "execution_count": 62,
   "metadata": {},
   "outputs": [
    {
     "name": "stdout",
     "output_type": "stream",
     "text": [
      "h\n",
      "e\n",
      "l\n",
      "l\n",
      "o\n",
      " \n",
      "w\n",
      "o\n",
      "r\n",
      "l\n",
      "d\n"
     ]
    }
   ],
   "source": [
    "st3 = input('Enter a string: ')\n",
    "i = 0\n",
    "while True:\n",
    "    try: \n",
    "        print(st3[i])\n",
    "        i = i + 1\n",
    "    except:\n",
    "        break"
   ]
  },
  {
   "cell_type": "code",
   "execution_count": 66,
   "metadata": {},
   "outputs": [
    {
     "name": "stdout",
     "output_type": "stream",
     "text": [
      "012345678910"
     ]
    }
   ],
   "source": [
    "st3 = input('Enter a string: ')\n",
    "st3_len = len(st3)\n",
    "counter = 0\n",
    "while counter<st3_len:\n",
    "    print(st3[counter], end='')\n",
    "    counter = counter + 1"
   ]
  },
  {
   "cell_type": "code",
   "execution_count": 68,
   "metadata": {},
   "outputs": [
    {
     "name": "stdout",
     "output_type": "stream",
     "text": [
      "838745"
     ]
    }
   ],
   "source": [
    "## input: a string\n",
    "## output: print all the digits in the string\n",
    "st = input('Enter a sting: ')\n",
    "length = len(st)\n",
    "counter = 0\n",
    "while counter < length:\n",
    "    diff = ord(st[counter]) - ord('0')\n",
    "    if 0 <= diff <=9: # diff >= 0 and diff <= 9:\n",
    "        print(st[counter], end='')\n",
    "    counter+=1"
   ]
  },
  {
   "cell_type": "markdown",
   "metadata": {},
   "source": [
    "### For Loop"
   ]
  },
  {
   "cell_type": "code",
   "execution_count": 72,
   "metadata": {},
   "outputs": [
    {
     "name": "stdout",
     "output_type": "stream",
     "text": [
      "82455"
     ]
    }
   ],
   "source": [
    "st = input('Enter a sting: ') # hello world\n",
    "for ch in st:\n",
    "    diff = ord(ch) - ord('0')\n",
    "    if 0 <= diff <=9:\n",
    "        print(ch, end= '')"
   ]
  },
  {
   "cell_type": "code",
   "execution_count": 97,
   "metadata": {},
   "outputs": [],
   "source": [
    "lst = [2, 3, 6, 7, 10, -9, -20]"
   ]
  },
  {
   "cell_type": "code",
   "execution_count": 98,
   "metadata": {},
   "outputs": [],
   "source": [
    "lst[2]=8"
   ]
  },
  {
   "cell_type": "code",
   "execution_count": 99,
   "metadata": {},
   "outputs": [
    {
     "name": "stdout",
     "output_type": "stream",
     "text": [
      "7 10\n"
     ]
    }
   ],
   "source": [
    "print(str(lst[3])+' ' + str(lst[4]))"
   ]
  },
  {
   "cell_type": "code",
   "execution_count": 100,
   "metadata": {},
   "outputs": [
    {
     "name": "stdout",
     "output_type": "stream",
     "text": [
      "4\n",
      "9\n",
      "64\n",
      "49\n",
      "100\n",
      "81\n",
      "400\n",
      "[2, 3, 8, 7, 10, -9, -20]\n"
     ]
    }
   ],
   "source": [
    "for x in lst:\n",
    "    print(x**2)\n",
    "    x = 5\n",
    "print(lst)\n"
   ]
  },
  {
   "cell_type": "code",
   "execution_count": 1,
   "metadata": {},
   "outputs": [
    {
     "name": "stdout",
     "output_type": "stream",
     "text": [
      "2\n",
      "3\n",
      "6\n",
      "7\n",
      "10\n",
      "-9\n",
      "-20\n",
      "[0, 1, 4, 9, 16, 25, 36]\n"
     ]
    }
   ],
   "source": [
    "lst = [2, 3, 6, 7, 10, -9, -20]\n",
    "size = len(lst)\n",
    "for i in range(size):\n",
    "    print(lst[i])\n",
    "    lst[i] = i**2 # this will \n",
    "\n",
    "print(lst)"
   ]
  },
  {
   "cell_type": "code",
   "execution_count": 105,
   "metadata": {},
   "outputs": [
    {
     "name": "stdout",
     "output_type": "stream",
     "text": [
      "[100, 90, 91, 85, 60]\n"
     ]
    }
   ],
   "source": [
    "marks =[100, 90, 91, 85, 60]\n",
    "print(marks)"
   ]
  },
  {
   "cell_type": "code",
   "execution_count": 106,
   "metadata": {},
   "outputs": [
    {
     "name": "stdout",
     "output_type": "stream",
     "text": [
      "[100, 90, 91, 85, 60, 78]\n"
     ]
    }
   ],
   "source": [
    "marks.append(78)\n",
    "print(marks)"
   ]
  },
  {
   "cell_type": "code",
   "execution_count": 107,
   "metadata": {},
   "outputs": [
    {
     "name": "stdout",
     "output_type": "stream",
     "text": [
      "[100, 90, 91, 85, 60, 78, 95]\n"
     ]
    }
   ],
   "source": [
    "marks.append(95)\n",
    "print(marks)"
   ]
  },
  {
   "cell_type": "code",
   "execution_count": 3,
   "metadata": {},
   "outputs": [
    {
     "name": "stdout",
     "output_type": "stream",
     "text": [
      "marks: [80.0]\n",
      "marks: [80.0, 95.0]\n",
      "marks: [80.0, 95.0, 78.0]\n",
      "marks: [80.0, 95.0, 78.0, 80.0]\n",
      "marks: [80.0, 95.0, 78.0, 80.0, 92.0]\n",
      "marks: [80.0, 95.0, 78.0, 80.0, 92.0, 90.0]\n",
      "marks: [80.0, 95.0, 78.0, 80.0, 92.0, 90.0, 59.0]\n",
      "marks: [80.0, 95.0, 78.0, 80.0, 92.0, 90.0, 59.0, 60.0]\n",
      "marks: [80.0, 95.0, 78.0, 80.0, 92.0, 90.0, 59.0, 60.0, 37.0]\n",
      "marks: [80.0, 95.0, 78.0, 80.0, 92.0, 90.0, 59.0, 60.0, 37.0, 90.0]\n",
      "80.0 is greater than 76.1\n",
      "95.0 is greater than 76.1\n",
      "78.0 is greater than 76.1\n",
      "80.0 is greater than 76.1\n",
      "92.0 is greater than 76.1\n",
      "90.0 is greater than 76.1\n",
      "90.0 is greater than 76.1\n"
     ]
    }
   ],
   "source": [
    "makrs = []\n",
    "\n",
    "n = int(input('Enter number of students: '))\n",
    "sum = 0\n",
    "for i in range(n):\n",
    "    x = float(input('Enter mark: '))\n",
    "    makrs.append(x)\n",
    "    print(f'marks: {makrs}')\n",
    "    sum = sum + x\n",
    "    \n",
    "average = sum / n\n",
    "\n",
    "for mark in makrs:\n",
    "    if(mark > average):\n",
    "        print(f'{mark} is greater than {average}')\n"
   ]
  },
  {
   "cell_type": "code",
   "execution_count": 109,
   "metadata": {},
   "outputs": [
    {
     "data": {
      "text/plain": [
       "[100, 90, 91, 85, 60, 78, 95]"
      ]
     },
     "execution_count": 109,
     "metadata": {},
     "output_type": "execute_result"
    }
   ],
   "source": [
    "marks"
   ]
  },
  {
   "cell_type": "code",
   "execution_count": 110,
   "metadata": {},
   "outputs": [
    {
     "data": {
      "text/plain": [
       "76.6"
      ]
     },
     "execution_count": 110,
     "metadata": {},
     "output_type": "execute_result"
    }
   ],
   "source": [
    "average"
   ]
  },
  {
   "cell_type": "markdown",
   "metadata": {},
   "source": [
    "side notes"
   ]
  },
  {
   "cell_type": "code",
   "execution_count": 6,
   "metadata": {},
   "outputs": [
    {
     "name": "stdout",
     "output_type": "stream",
     "text": [
      "hello    world\n",
      "hello    world\n"
     ]
    }
   ],
   "source": [
    "space = ' '\n",
    "print(f'hello{space*4}world')\n",
    "print('hello'+space*4+'world')"
   ]
  },
  {
   "cell_type": "code",
   "execution_count": 7,
   "metadata": {},
   "outputs": [],
   "source": [
    "str1 ='coffee'\n",
    "if not(str1 == 'coffee' or str1 == 'book'):\n",
    "    print('bla bla')"
   ]
  },
  {
   "cell_type": "code",
   "execution_count": 8,
   "metadata": {},
   "outputs": [
    {
     "name": "stdout",
     "output_type": "stream",
     "text": [
      "bla bla\n"
     ]
    }
   ],
   "source": [
    "lst = ['coffee', 'book']\n",
    "if str1 in lst:\n",
    "    print('bla bla')"
   ]
  },
  {
   "cell_type": "markdown",
   "metadata": {},
   "source": [
    "End of side notes"
   ]
  },
  {
   "cell_type": "code",
   "execution_count": 15,
   "metadata": {},
   "outputs": [
    {
     "name": "stdout",
     "output_type": "stream",
     "text": [
      "Original list: [-3, 20, 9, 10]\n",
      "\n",
      "The copied list: [-3, 20, 9, 10]\n",
      "\n",
      "Original list: [-3, 20, 60, 10]\n",
      "\n",
      "The copied list: [-3, 20, 9, 10]\n",
      "\n"
     ]
    }
   ],
   "source": [
    "\n",
    "import copy ## a library that has copy methods\n",
    "\n",
    "lst =[-3, 20, 9, 10]\n",
    "# lst_copy = lst ##points on the same location in the memory !! (Dangerous)\n",
    "\n",
    "lst_copy = copy.deepcopy(lst) ## deep copies the list into new place in the memory\n",
    "\n",
    "print(f'Original list: {lst}\\n')\n",
    "print(f'The copied list: {lst_copy}\\n')\n",
    "lst[2] = 60\n",
    "print(f'Original list: {lst}\\n')\n",
    "print(f'The copied list: {lst_copy}\\n')"
   ]
  },
  {
   "cell_type": "markdown",
   "metadata": {},
   "source": [
    "Random"
   ]
  },
  {
   "cell_type": "code",
   "execution_count": 63,
   "metadata": {},
   "outputs": [
    {
     "name": "stdout",
     "output_type": "stream",
     "text": [
      "A random float between 0.0 and 1.0: 0.6394267984578837\n",
      "**\n",
      "Integer in range [15,90]: 18\n",
      "**\n",
      "Random float in range (1.0,10.5): 8.044729747718414\n",
      "**\n",
      "Random element from a list ['banana', 10, 'apple', -9.7, 'cherry', 90]: 10\n",
      "**\n",
      "Random char(character) from a string (list of chars) cherry: h\n",
      "**\n",
      "Random Shuffle of the list [1, 2, 3, 4, 5]: [5, 4, 3, 1, 2]\n",
      "**\n",
      "Integer in range [15,90): 18\n",
      "**\n",
      "Random sample of 5 numbers from 1 to 99: [5, 4, 12, 28, 30]\n",
      "**\n"
     ]
    }
   ],
   "source": [
    "import random # this library treat all the randomness stuff\n",
    "\n",
    "# random.seed(42) ## this is imporant when we want to give the ability to replicate\n",
    "\n",
    "random_float = random.random()\n",
    "print(f'A random float between 0.0 and 1.0: {random_float}\\n**')\n",
    "\n",
    "a = 15 #int(input('Enter start: '))\n",
    "b = 90#int(input('Enter end: '))\n",
    "random_int = random.randint(a, b)  # Random integer between 1 and 10\n",
    "print(f'Integer in range [{a},{b}]: {random_int}\\n**')\n",
    "\n",
    "random_uniform = random.uniform(1.0, 10.5)\n",
    "print(f'Random float in range (1.0,10.5): {random_uniform}\\n**')\n",
    "\n",
    "lst = ['banana', 10, 'apple', -9.7, 'cherry', 90]\n",
    "random_element = random.choice(lst)\n",
    "print(f'Random element from a list {lst}: {random_element}\\n**')\n",
    "\n",
    "str3 = 'cherry'\n",
    "print(f'Random char(character) from a string (list of chars) {str3}: {random.choice(str3)}\\n**')\n",
    "\n",
    "my_list = [1, 2, 3, 4, 5]\n",
    "print(f'Random Shuffle of the list {my_list}: ', end='')\n",
    "random.shuffle(my_list)\n",
    "print(f'{my_list}\\n**')\n",
    "\n",
    "random_range = random.randrange(a, b) ## in range [a,b)\n",
    "print(f'Integer in range [{a},{b}): {random_int}\\n**')\n",
    "\n",
    "lst_rng = range(1, 100) #[1,100)\n",
    "\n",
    "sample_list = random.sample(lst_rng, 5)  \n",
    "print(f'Random sample of 5 numbers from 1 to 99: {sample_list}\\n**')"
   ]
  },
  {
   "cell_type": "code",
   "execution_count": 98,
   "metadata": {},
   "outputs": [
    {
     "name": "stdout",
     "output_type": "stream",
     "text": [
      "The average total number of payments in order to get all different 50 copuns is: 225\n"
     ]
    }
   ],
   "source": [
    "import random # this library treat all the randomness stuff\n",
    "N = 50\n",
    "sum = 0\n",
    "number_of_iterations = 10000\n",
    "for i in range(number_of_iterations):\n",
    "    found = [False]*N\n",
    "    total_counter = 0 # counter of all the payments\n",
    "    distinct_counter = 0 # counts the number of distinct copuns that we've earned till now\n",
    "    while distinct_counter < N:\n",
    "        copun = random.randint(0, N-1)\n",
    "        total_counter = total_counter + 1\n",
    "        if (found[copun] == False):\n",
    "            found[copun] = True\n",
    "            distinct_counter+=1\n",
    "    sum+=total_counter\n",
    "average = sum // number_of_iterations\n",
    "\n",
    "print(f'The average total number of payments in order to get all different {N} copuns is: {average}')\n"
   ]
  },
  {
   "cell_type": "code",
   "execution_count": null,
   "metadata": {},
   "outputs": [],
   "source": []
  }
 ],
 "metadata": {
  "kernelspec": {
   "display_name": "Python 3.11.0 64-bit",
   "language": "python",
   "name": "python3"
  },
  "language_info": {
   "codemirror_mode": {
    "name": "ipython",
    "version": 3
   },
   "file_extension": ".py",
   "mimetype": "text/x-python",
   "name": "python",
   "nbconvert_exporter": "python",
   "pygments_lexer": "ipython3",
   "version": "3.11.0"
  },
  "orig_nbformat": 4,
  "vscode": {
   "interpreter": {
    "hash": "aee8b7b246df8f9039afb4144a1f6fd8d2ca17a180786b69acc140d282b71a49"
   }
  }
 },
 "nbformat": 4,
 "nbformat_minor": 2
}
